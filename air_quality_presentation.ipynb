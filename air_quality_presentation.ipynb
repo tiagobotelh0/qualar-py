{
 "cells": [
  {
   "cell_type": "markdown",
   "metadata": {},
   "source": [
    "# Air Quality Data from the State of São Paulo (Brazil): a Tutorial"
   ]
  },
  {
   "cell_type": "markdown",
   "metadata": {},
   "source": [
    "## Introduction\n",
    "\n",
    "Air pollution is one of the most pressing issues of our time. The World Health Organization estimates that air pollution is responsible for roughly [4.2 million deaths](https://www.who.int/health-topics/air-pollution#tab=tab_1) every year, and research has shown that approximately [100,000](http://www.saudeesustentabilidade.org.br/site/wp-content/uploads/2013/09/Documentofinaldapesquisapadrao_2409-FINAL-sitev1.pdf) of those deaths take place in the state of São Paulo (Brazil).\n",
    "\n",
    "Given the severity of this issue, high quality data on air pollution and other environmental parameters have become a tool of paramount importance for policymakers and civilians alike. Our goal in this tutorial is twofold:\n",
    "\n",
    "1. To empower the reader with the ability to easily collect and process air quality data;\n",
    "2. To give the reader a comprehensive summary of the data that are available for the state of São Paulo.\n",
    "\n",
    "What you'll need for this tutorial:\n",
    "\n",
    "1. A computer with a stable internet connection;\n",
    "2. A `Python 3` distribution installed on your computer. If you haven't already got one, we highly recommend the [Anaconda](https://www.anaconda.com/) distribution.\n",
    "3. Finally, since the module we present depends on `tabula-java`, you'll have to download [Java](https://www.java.com/en/download/) as well."
   ]
  },
  {
   "cell_type": "markdown",
   "metadata": {},
   "source": [
    "## Collecting and Cleaning the Data\n",
    "\n",
    "**Background Information.** The state of São Paulo monitors air quality parameters through its own environmental agency, the *Companhia Ambiental do Estado de São Paulo* (CETESB), which in its turn has several measurement stations spread across the state. For the purposes of this tutorial, all we need to know is that CETESB makes its air quality measurements available on the eponymous QUALAR system.\n",
    "\n",
    "**Collecting the Raw Data.** Any Brazilian citizen (*i.e.*, anyone with the equivalent of a social security number) can sign up for an account on the QUALAR system. All they have to do is:\n",
    "\n",
    "1. Sign in after registering for an account.\n",
    "2. Click on `Relatórios > Mensal Dados Horários` and choose the parameters and stations they want to look at.\n",
    "\n",
    "This deceptively simple procedure can take up to two hours if this is your first time doing it, so we spare the reader and provide all of the PDF files on a [Google Drive folder](https://drive.google.com/drive/folders/10UZFkmitHKetvlJW4qTlOY8Q_wSy7HSJ?usp=sharing) (last updated on January 7, 2021).\n",
    "\n",
    "The final preparation step requires converting the `pdf` files to `csv` files. We are currently developing a `Python 3` module to make this step as smooth as can be, and the reader who would like to know more about how the sausage is made can look at the GitHub repository with the scripts and a sample `pdf` file. An example of our module (tentatively named `pager`) at work is given below, with the Pinheiros station used for illustration purposes:"
   ]
  },
  {
   "cell_type": "code",
   "execution_count": 1,
   "metadata": {},
   "outputs": [
    {
     "data": {
      "text/html": [
       "<div>\n",
       "<style scoped>\n",
       "    .dataframe tbody tr th:only-of-type {\n",
       "        vertical-align: middle;\n",
       "    }\n",
       "\n",
       "    .dataframe tbody tr th {\n",
       "        vertical-align: top;\n",
       "    }\n",
       "\n",
       "    .dataframe thead th {\n",
       "        text-align: right;\n",
       "    }\n",
       "</style>\n",
       "<table border=\"1\" class=\"dataframe\">\n",
       "  <thead>\n",
       "    <tr style=\"text-align: right;\">\n",
       "      <th></th>\n",
       "      <th>station</th>\n",
       "      <th>pollutant</th>\n",
       "      <th>h0</th>\n",
       "      <th>h1</th>\n",
       "      <th>h2</th>\n",
       "      <th>h3</th>\n",
       "      <th>h4</th>\n",
       "      <th>h5</th>\n",
       "      <th>h6</th>\n",
       "      <th>h7</th>\n",
       "      <th>h8</th>\n",
       "      <th>h9</th>\n",
       "      <th>h10</th>\n",
       "      <th>h11</th>\n",
       "      <th>h12</th>\n",
       "      <th>h13</th>\n",
       "      <th>h14</th>\n",
       "      <th>h15</th>\n",
       "      <th>h16</th>\n",
       "      <th>h17</th>\n",
       "      <th>h18</th>\n",
       "      <th>h19</th>\n",
       "      <th>h20</th>\n",
       "      <th>h21</th>\n",
       "      <th>h22</th>\n",
       "      <th>h23</th>\n",
       "    </tr>\n",
       "    <tr>\n",
       "      <th>date</th>\n",
       "      <th></th>\n",
       "      <th></th>\n",
       "      <th></th>\n",
       "      <th></th>\n",
       "      <th></th>\n",
       "      <th></th>\n",
       "      <th></th>\n",
       "      <th></th>\n",
       "      <th></th>\n",
       "      <th></th>\n",
       "      <th></th>\n",
       "      <th></th>\n",
       "      <th></th>\n",
       "      <th></th>\n",
       "      <th></th>\n",
       "      <th></th>\n",
       "      <th></th>\n",
       "      <th></th>\n",
       "      <th></th>\n",
       "      <th></th>\n",
       "      <th></th>\n",
       "      <th></th>\n",
       "      <th></th>\n",
       "      <th></th>\n",
       "      <th></th>\n",
       "      <th></th>\n",
       "    </tr>\n",
       "  </thead>\n",
       "  <tbody>\n",
       "    <tr>\n",
       "      <th>2017-01-07</th>\n",
       "      <td>Pinheiros</td>\n",
       "      <td>MP10</td>\n",
       "      <td>2.0</td>\n",
       "      <td>8.0</td>\n",
       "      <td>6.0</td>\n",
       "      <td>9.0</td>\n",
       "      <td>9.0</td>\n",
       "      <td>12.0</td>\n",
       "      <td>15.0</td>\n",
       "      <td>20.0</td>\n",
       "      <td>16.0</td>\n",
       "      <td>47.0</td>\n",
       "      <td>32.0</td>\n",
       "      <td>27.0</td>\n",
       "      <td>38.0</td>\n",
       "      <td>34.0</td>\n",
       "      <td>27.0</td>\n",
       "      <td>22.0</td>\n",
       "      <td>13.0</td>\n",
       "      <td>21.0</td>\n",
       "      <td>2.0</td>\n",
       "      <td>10.0</td>\n",
       "      <td>3.0</td>\n",
       "      <td>14.0</td>\n",
       "      <td>16.0</td>\n",
       "      <td>34.0</td>\n",
       "    </tr>\n",
       "    <tr>\n",
       "      <th>2017-01-09</th>\n",
       "      <td>Pinheiros</td>\n",
       "      <td>MP10</td>\n",
       "      <td>NaN</td>\n",
       "      <td>NaN</td>\n",
       "      <td>NaN</td>\n",
       "      <td>NaN</td>\n",
       "      <td>NaN</td>\n",
       "      <td>NaN</td>\n",
       "      <td>NaN</td>\n",
       "      <td>NaN</td>\n",
       "      <td>NaN</td>\n",
       "      <td>NaN</td>\n",
       "      <td>NaN</td>\n",
       "      <td>25.0</td>\n",
       "      <td>10.0</td>\n",
       "      <td>22.0</td>\n",
       "      <td>25.0</td>\n",
       "      <td>30.0</td>\n",
       "      <td>29.0</td>\n",
       "      <td>22.0</td>\n",
       "      <td>26.0</td>\n",
       "      <td>33.0</td>\n",
       "      <td>26.0</td>\n",
       "      <td>11.0</td>\n",
       "      <td>9.0</td>\n",
       "      <td>6.0</td>\n",
       "    </tr>\n",
       "    <tr>\n",
       "      <th>2017-01-13</th>\n",
       "      <td>Pinheiros</td>\n",
       "      <td>MP10</td>\n",
       "      <td>10.0</td>\n",
       "      <td>13.0</td>\n",
       "      <td>13.0</td>\n",
       "      <td>13.0</td>\n",
       "      <td>11.0</td>\n",
       "      <td>10.0</td>\n",
       "      <td>15.0</td>\n",
       "      <td>9.0</td>\n",
       "      <td>6.0</td>\n",
       "      <td>10.0</td>\n",
       "      <td>13.0</td>\n",
       "      <td>9.0</td>\n",
       "      <td>13.0</td>\n",
       "      <td>14.0</td>\n",
       "      <td>20.0</td>\n",
       "      <td>25.0</td>\n",
       "      <td>27.0</td>\n",
       "      <td>20.0</td>\n",
       "      <td>33.0</td>\n",
       "      <td>21.0</td>\n",
       "      <td>9.0</td>\n",
       "      <td>14.0</td>\n",
       "      <td>18.0</td>\n",
       "      <td>10.0</td>\n",
       "    </tr>\n",
       "    <tr>\n",
       "      <th>2017-01-31</th>\n",
       "      <td>Pinheiros</td>\n",
       "      <td>MP10</td>\n",
       "      <td>17.0</td>\n",
       "      <td>21.0</td>\n",
       "      <td>24.0</td>\n",
       "      <td>21.0</td>\n",
       "      <td>23.0</td>\n",
       "      <td>19.0</td>\n",
       "      <td>22.0</td>\n",
       "      <td>25.0</td>\n",
       "      <td>21.0</td>\n",
       "      <td>31.0</td>\n",
       "      <td>32.0</td>\n",
       "      <td>30.0</td>\n",
       "      <td>31.0</td>\n",
       "      <td>35.0</td>\n",
       "      <td>22.0</td>\n",
       "      <td>28.0</td>\n",
       "      <td>27.0</td>\n",
       "      <td>29.0</td>\n",
       "      <td>21.0</td>\n",
       "      <td>18.0</td>\n",
       "      <td>24.0</td>\n",
       "      <td>19.0</td>\n",
       "      <td>10.0</td>\n",
       "      <td>10.0</td>\n",
       "    </tr>\n",
       "    <tr>\n",
       "      <th>2017-01-18</th>\n",
       "      <td>Pinheiros</td>\n",
       "      <td>MP10</td>\n",
       "      <td>12.0</td>\n",
       "      <td>9.0</td>\n",
       "      <td>3.0</td>\n",
       "      <td>7.0</td>\n",
       "      <td>6.0</td>\n",
       "      <td>6.0</td>\n",
       "      <td>11.0</td>\n",
       "      <td>13.0</td>\n",
       "      <td>19.0</td>\n",
       "      <td>32.0</td>\n",
       "      <td>15.0</td>\n",
       "      <td>22.0</td>\n",
       "      <td>29.0</td>\n",
       "      <td>2.0</td>\n",
       "      <td>16.0</td>\n",
       "      <td>2.0</td>\n",
       "      <td>14.0</td>\n",
       "      <td>12.0</td>\n",
       "      <td>15.0</td>\n",
       "      <td>18.0</td>\n",
       "      <td>23.0</td>\n",
       "      <td>25.0</td>\n",
       "      <td>26.0</td>\n",
       "      <td>24.0</td>\n",
       "    </tr>\n",
       "  </tbody>\n",
       "</table>\n",
       "</div>"
      ],
      "text/plain": [
       "              station pollutant    h0    h1    h2    h3    h4    h5    h6  \\\n",
       "date                                                                        \n",
       "2017-01-07  Pinheiros      MP10   2.0   8.0   6.0   9.0   9.0  12.0  15.0   \n",
       "2017-01-09  Pinheiros      MP10   NaN   NaN   NaN   NaN   NaN   NaN   NaN   \n",
       "2017-01-13  Pinheiros      MP10  10.0  13.0  13.0  13.0  11.0  10.0  15.0   \n",
       "2017-01-31  Pinheiros      MP10  17.0  21.0  24.0  21.0  23.0  19.0  22.0   \n",
       "2017-01-18  Pinheiros      MP10  12.0   9.0   3.0   7.0   6.0   6.0  11.0   \n",
       "\n",
       "              h7    h8    h9   h10   h11   h12   h13   h14   h15   h16   h17  \\\n",
       "date                                                                           \n",
       "2017-01-07  20.0  16.0  47.0  32.0  27.0  38.0  34.0  27.0  22.0  13.0  21.0   \n",
       "2017-01-09   NaN   NaN   NaN   NaN  25.0  10.0  22.0  25.0  30.0  29.0  22.0   \n",
       "2017-01-13   9.0   6.0  10.0  13.0   9.0  13.0  14.0  20.0  25.0  27.0  20.0   \n",
       "2017-01-31  25.0  21.0  31.0  32.0  30.0  31.0  35.0  22.0  28.0  27.0  29.0   \n",
       "2017-01-18  13.0  19.0  32.0  15.0  22.0  29.0   2.0  16.0   2.0  14.0  12.0   \n",
       "\n",
       "             h18   h19   h20   h21   h22   h23  \n",
       "date                                            \n",
       "2017-01-07   2.0  10.0   3.0  14.0  16.0  34.0  \n",
       "2017-01-09  26.0  33.0  26.0  11.0   9.0   6.0  \n",
       "2017-01-13  33.0  21.0   9.0  14.0  18.0  10.0  \n",
       "2017-01-31  21.0  18.0  24.0  19.0  10.0  10.0  \n",
       "2017-01-18  15.0  18.0  23.0  25.0  26.0  24.0  "
      ]
     },
     "execution_count": 1,
     "metadata": {},
     "output_type": "execute_result"
    }
   ],
   "source": [
    "import os\n",
    "\n",
    "os.chdir('/home/tiago/Downloads/stations/')\n",
    "\n",
    "import pandas as pd\n",
    "pd.set_option('display.max_columns', None)\n",
    "\n",
    "from tabula import read_pdf\n",
    "from pager import clean\n",
    "\n",
    "pinheiros_raw = read_pdf('Pinheiros/document.pdf', pages=1, lattice=True, silent=True)\n",
    "\n",
    "pinheiros = clean(pinheiros_raw, 1)\n",
    "\n",
    "pinheiros.sample(5)"
   ]
  },
  {
   "cell_type": "markdown",
   "metadata": {},
   "source": [
    "Our module is currently in its early development stages, and can only convert one page at a time. Our temporary way of circumventing this problem is to use the `convert` function (also available on the GitHub repository) for multipage conversions. It typically takes no less than 90 minutes of real time (as measured by the Unix `time` command) for it to clean the entirety of the dataset, so we once again omit the details here to spare the reader."
   ]
  },
  {
   "cell_type": "markdown",
   "metadata": {},
   "source": [
    "## Intraday Measurements"
   ]
  },
  {
   "cell_type": "markdown",
   "metadata": {},
   "source": [
    "The data come in `pdf` files, each of which has one page corresponding to one month of measurements at a particular station for a particular paramenter. Despite the tens of thousands of pages in total, our data is in fact easy to describe:\n",
    "\n",
    "|  Variable |                Description               |\n",
    "|:---------:|:----------------------------------------:|\n",
    "|    date   | Day of measurement in YYYY-MM-DD format. |\n",
    "|  station  |        Measurement station's name.       |\n",
    "| pollutant |     Environnmental parameter's name.     |\n",
    "\n",
    "The remaining columns are all of the form $h_i$, where $i \\in \\{0, 1, ..., 23\\}$ represents the hour of day when the measurement was registered. We can now plot what the average day looks like for the Pinheiros station in terms of PM10 concentration (for the January of 2017):"
   ]
  },
  {
   "cell_type": "code",
   "execution_count": 2,
   "metadata": {},
   "outputs": [
    {
     "data": {
      "text/plain": [
       "<AxesSubplot:title={'center':'Typical (Mean) Day (PM10)'}, ylabel='$\\\\mu g/m^3$'>"
      ]
     },
     "execution_count": 2,
     "metadata": {},
     "output_type": "execute_result"
    },
    {
     "data": {
      "image/png": "[encoded data removed]",
      "text/plain": [
       "<Figure size 600x400 with 1 Axes>"
      ]
     },
     "metadata": {
      "needs_background": "light"
     },
     "output_type": "display_data"
    }
   ],
   "source": [
    "import matplotlib.pyplot as plt\n",
    "plt.rcParams['figure.dpi'] = 100\n",
    "\n",
    "pinheiros.groupby(by=['station', 'pollutant']).mean().iloc[0].plot(kind='bar', title='Typical (Mean) Day (PM10)', ylabel='$\\mu g/m^3$')"
   ]
  },
  {
   "cell_type": "markdown",
   "metadata": {},
   "source": [
    "It might be more interesting to look at peak concentration levels, since the majority of symptoms related to pollution only arise in the presence of high levels of particulate matter/ozone/etc."
   ]
  },
  {
   "cell_type": "code",
   "execution_count": 3,
   "metadata": {},
   "outputs": [
    {
     "data": {
      "text/plain": [
       "<AxesSubplot:title={'center':'Typical (Mean) Day (PM10)'}, ylabel='$\\\\mu g/m^3$'>"
      ]
     },
     "execution_count": 3,
     "metadata": {},
     "output_type": "execute_result"
    },
    {
     "data": {
      "image/png": "[encoded data removed]",
      "text/plain": [
       "<Figure size 600x400 with 1 Axes>"
      ]
     },
     "metadata": {
      "needs_background": "light"
     },
     "output_type": "display_data"
    }
   ],
   "source": [
    "pinheiros.groupby(by=['station', 'pollutant']).max().iloc[0].plot(kind='bar', title='Typical (Mean) Day (PM10)', ylabel='$\\mu g/m^3$')"
   ]
  },
  {
   "cell_type": "markdown",
   "metadata": {},
   "source": [
    "## The Full Dataset\n",
    "\n",
    "As we have already pointed out, it takes a long time ($\\sim 90$ minutes) to generate the full dataset, so we have preëmptively run the `convert.py` code to spare the reader. This dataset is also available on our public [Google Drive folder](https://drive.google.com/file/d/1ADiSHWmmRKqivEMCP9oqVTWq1NyfgtzX/view?usp=sharing), and replication at this point is trivial. A short snippet to sample five observations at random from the full dataset is presented below:"
   ]
  },
  {
   "cell_type": "code",
   "execution_count": 4,
   "metadata": {},
   "outputs": [
    {
     "data": {
      "text/html": [
       "<div>\n",
       "<style scoped>\n",
       "    .dataframe tbody tr th:only-of-type {\n",
       "        vertical-align: middle;\n",
       "    }\n",
       "\n",
       "    .dataframe tbody tr th {\n",
       "        vertical-align: top;\n",
       "    }\n",
       "\n",
       "    .dataframe thead th {\n",
       "        text-align: right;\n",
       "    }\n",
       "</style>\n",
       "<table border=\"1\" class=\"dataframe\">\n",
       "  <thead>\n",
       "    <tr style=\"text-align: right;\">\n",
       "      <th></th>\n",
       "      <th>date</th>\n",
       "      <th>station</th>\n",
       "      <th>pollutant</th>\n",
       "      <th>h0</th>\n",
       "      <th>h1</th>\n",
       "      <th>h2</th>\n",
       "      <th>h3</th>\n",
       "      <th>h4</th>\n",
       "      <th>h5</th>\n",
       "      <th>h6</th>\n",
       "      <th>h7</th>\n",
       "      <th>h8</th>\n",
       "      <th>h9</th>\n",
       "      <th>h10</th>\n",
       "      <th>h11</th>\n",
       "      <th>h12</th>\n",
       "      <th>h13</th>\n",
       "      <th>h14</th>\n",
       "      <th>h15</th>\n",
       "      <th>h16</th>\n",
       "      <th>h17</th>\n",
       "      <th>h18</th>\n",
       "      <th>h19</th>\n",
       "      <th>h20</th>\n",
       "      <th>h21</th>\n",
       "      <th>h22</th>\n",
       "      <th>h23</th>\n",
       "    </tr>\n",
       "  </thead>\n",
       "  <tbody>\n",
       "    <tr>\n",
       "      <th>157811</th>\n",
       "      <td>2020-04-11</td>\n",
       "      <td>Santos-Ponta da Praia</td>\n",
       "      <td>DVG</td>\n",
       "      <td>42.0</td>\n",
       "      <td>15.0</td>\n",
       "      <td>23.0</td>\n",
       "      <td>6.0</td>\n",
       "      <td>11.0</td>\n",
       "      <td>33.0</td>\n",
       "      <td>22.0</td>\n",
       "      <td>15.0</td>\n",
       "      <td>12.0</td>\n",
       "      <td>290.0</td>\n",
       "      <td>210.0</td>\n",
       "      <td>197.0</td>\n",
       "      <td>174.0</td>\n",
       "      <td>133.0</td>\n",
       "      <td>138.0</td>\n",
       "      <td>189.0</td>\n",
       "      <td>193.0</td>\n",
       "      <td>206.0</td>\n",
       "      <td>188.0</td>\n",
       "      <td>155.0</td>\n",
       "      <td>78.0</td>\n",
       "      <td>359.0</td>\n",
       "      <td>44.0</td>\n",
       "      <td>30.0</td>\n",
       "    </tr>\n",
       "    <tr>\n",
       "      <th>101597</th>\n",
       "      <td>2018-01-07</td>\n",
       "      <td>Santana</td>\n",
       "      <td>DV</td>\n",
       "      <td>122.0</td>\n",
       "      <td>103.0</td>\n",
       "      <td>100.0</td>\n",
       "      <td>119.0</td>\n",
       "      <td>110.0</td>\n",
       "      <td>111.0</td>\n",
       "      <td>119.0</td>\n",
       "      <td>114.0</td>\n",
       "      <td>112.0</td>\n",
       "      <td>129.0</td>\n",
       "      <td>173.0</td>\n",
       "      <td>128.0</td>\n",
       "      <td>143.0</td>\n",
       "      <td>119.0</td>\n",
       "      <td>117.0</td>\n",
       "      <td>117.0</td>\n",
       "      <td>134.0</td>\n",
       "      <td>132.0</td>\n",
       "      <td>130.0</td>\n",
       "      <td>127.0</td>\n",
       "      <td>128.0</td>\n",
       "      <td>116.0</td>\n",
       "      <td>122.0</td>\n",
       "      <td>113.0</td>\n",
       "    </tr>\n",
       "    <tr>\n",
       "      <th>504240</th>\n",
       "      <td>2017-09-04</td>\n",
       "      <td>Itaquera</td>\n",
       "      <td>O3</td>\n",
       "      <td>0.0</td>\n",
       "      <td>8.0</td>\n",
       "      <td>21.0</td>\n",
       "      <td>22.0</td>\n",
       "      <td>19.0</td>\n",
       "      <td>NaN</td>\n",
       "      <td>9.0</td>\n",
       "      <td>8.0</td>\n",
       "      <td>13.0</td>\n",
       "      <td>25.0</td>\n",
       "      <td>35.0</td>\n",
       "      <td>49.0</td>\n",
       "      <td>65.0</td>\n",
       "      <td>80.0</td>\n",
       "      <td>NaN</td>\n",
       "      <td>NaN</td>\n",
       "      <td>NaN</td>\n",
       "      <td>73.0</td>\n",
       "      <td>47.0</td>\n",
       "      <td>9.0</td>\n",
       "      <td>3.0</td>\n",
       "      <td>3.0</td>\n",
       "      <td>3.0</td>\n",
       "      <td>2.0</td>\n",
       "    </tr>\n",
       "    <tr>\n",
       "      <th>67543</th>\n",
       "      <td>2017-03-19</td>\n",
       "      <td>Bauru</td>\n",
       "      <td>PRESS</td>\n",
       "      <td>954.5</td>\n",
       "      <td>953.7</td>\n",
       "      <td>953.4</td>\n",
       "      <td>953.4</td>\n",
       "      <td>953.3</td>\n",
       "      <td>953.3</td>\n",
       "      <td>953.7</td>\n",
       "      <td>954.1</td>\n",
       "      <td>954.7</td>\n",
       "      <td>954.9</td>\n",
       "      <td>955.0</td>\n",
       "      <td>954.8</td>\n",
       "      <td>954.2</td>\n",
       "      <td>953.3</td>\n",
       "      <td>952.8</td>\n",
       "      <td>952.4</td>\n",
       "      <td>952.5</td>\n",
       "      <td>952.6</td>\n",
       "      <td>952.9</td>\n",
       "      <td>953.7</td>\n",
       "      <td>954.3</td>\n",
       "      <td>954.9</td>\n",
       "      <td>955.1</td>\n",
       "      <td>955.0</td>\n",
       "    </tr>\n",
       "    <tr>\n",
       "      <th>327305</th>\n",
       "      <td>2017-07-21</td>\n",
       "      <td>Araçatuba</td>\n",
       "      <td>DV</td>\n",
       "      <td>243.0</td>\n",
       "      <td>777.0</td>\n",
       "      <td>105.0</td>\n",
       "      <td>107.0</td>\n",
       "      <td>777.0</td>\n",
       "      <td>777.0</td>\n",
       "      <td>777.0</td>\n",
       "      <td>88.0</td>\n",
       "      <td>129.0</td>\n",
       "      <td>133.0</td>\n",
       "      <td>143.0</td>\n",
       "      <td>147.0</td>\n",
       "      <td>141.0</td>\n",
       "      <td>888.0</td>\n",
       "      <td>310.0</td>\n",
       "      <td>306.0</td>\n",
       "      <td>276.0</td>\n",
       "      <td>248.0</td>\n",
       "      <td>777.0</td>\n",
       "      <td>777.0</td>\n",
       "      <td>260.0</td>\n",
       "      <td>255.0</td>\n",
       "      <td>249.0</td>\n",
       "      <td>66.0</td>\n",
       "    </tr>\n",
       "  </tbody>\n",
       "</table>\n",
       "</div>"
      ],
      "text/plain": [
       "              date                station pollutant     h0     h1     h2  \\\n",
       "157811  2020-04-11  Santos-Ponta da Praia       DVG   42.0   15.0   23.0   \n",
       "101597  2018-01-07                Santana        DV  122.0  103.0  100.0   \n",
       "504240  2017-09-04               Itaquera        O3    0.0    8.0   21.0   \n",
       "67543   2017-03-19                  Bauru     PRESS  954.5  953.7  953.4   \n",
       "327305  2017-07-21              Araçatuba        DV  243.0  777.0  105.0   \n",
       "\n",
       "           h3     h4     h5     h6     h7     h8     h9    h10    h11    h12  \\\n",
       "157811    6.0   11.0   33.0   22.0   15.0   12.0  290.0  210.0  197.0  174.0   \n",
       "101597  119.0  110.0  111.0  119.0  114.0  112.0  129.0  173.0  128.0  143.0   \n",
       "504240   22.0   19.0    NaN    9.0    8.0   13.0   25.0   35.0   49.0   65.0   \n",
       "67543   953.4  953.3  953.3  953.7  954.1  954.7  954.9  955.0  954.8  954.2   \n",
       "327305  107.0  777.0  777.0  777.0   88.0  129.0  133.0  143.0  147.0  141.0   \n",
       "\n",
       "          h13    h14    h15    h16    h17    h18    h19    h20    h21    h22  \\\n",
       "157811  133.0  138.0  189.0  193.0  206.0  188.0  155.0   78.0  359.0   44.0   \n",
       "101597  119.0  117.0  117.0  134.0  132.0  130.0  127.0  128.0  116.0  122.0   \n",
       "504240   80.0    NaN    NaN    NaN   73.0   47.0    9.0    3.0    3.0    3.0   \n",
       "67543   953.3  952.8  952.4  952.5  952.6  952.9  953.7  954.3  954.9  955.1   \n",
       "327305  888.0  310.0  306.0  276.0  248.0  777.0  777.0  260.0  255.0  249.0   \n",
       "\n",
       "          h23  \n",
       "157811   30.0  \n",
       "101597  113.0  \n",
       "504240    2.0  \n",
       "67543   955.0  \n",
       "327305   66.0  "
      ]
     },
     "execution_count": 4,
     "metadata": {},
     "output_type": "execute_result"
    }
   ],
   "source": [
    "full = pd.read_csv('stations.csv', sep=';')\n",
    "\n",
    "full.sample(5)"
   ]
  },
  {
   "cell_type": "markdown",
   "metadata": {},
   "source": [
    "As one can already tell, the structure is the same for the full dataset as it was for a single page, but with a lot more dates, stations, and parameters available. We now list some of the primary features of our dataset; it consists of:"
   ]
  },
  {
   "cell_type": "code",
   "execution_count": 5,
   "metadata": {},
   "outputs": [
    {
     "name": "stdout",
     "output_type": "stream",
     "text": [
      "681681 rows and 27 columns.\n",
      "65 unique stations.\n",
      "20 unique pollutants/parameters.\n",
      "Observations that range from 2017-01-01 to 2021-01-06\n"
     ]
    }
   ],
   "source": [
    "print(f'{full.shape[0]} rows and {full.shape[1]} columns.')\n",
    "print(f'{len(full.station.unique())} unique stations.')\n",
    "print(f'{len(full.pollutant.unique())} unique pollutants/parameters.')\n",
    "print(f'Observations that range from {min(full.date)} to {max(full.date)}')"
   ]
  },
  {
   "cell_type": "markdown",
   "metadata": {},
   "source": [
    "There is a large proportion of `NaN` observations, and we have yet to call CETESB to investigate whether this is due to scheduled maintenance or systematic problems with the stations. The proportion of `NaN` objects in each hour is plotted below:"
   ]
  },
  {
   "cell_type": "code",
   "execution_count": 6,
   "metadata": {},
   "outputs": [
    {
     "data": {
      "text/plain": [
       "<AxesSubplot:title={'center':'Proportion of NaN Observations'}>"
      ]
     },
     "execution_count": 6,
     "metadata": {},
     "output_type": "execute_result"
    },
    {
     "data": {
      "image/png": "[encoded data removed]",
      "text/plain": [
       "<Figure size 600x400 with 1 Axes>"
      ]
     },
     "metadata": {
      "needs_background": "light"
     },
     "output_type": "display_data"
    }
   ],
   "source": [
    "(full.isnull().sum() / (full.notnull().sum() + full.isnull().sum())).plot(kind='bar', title='Proportion of NaN Observations')"
   ]
  },
  {
   "cell_type": "markdown",
   "metadata": {},
   "source": [
    "Most `NaN` observations happen at midnight, which may indicate that stations are turned off every day at midnight; at this point this is just a conjecture, and more work needs to be done before we have a definitive answer.\n",
    "\n",
    "There is a considerable range of parameters for which we have observations, though it is important to note that most stations don't measure all of them (in fact, most measure no more than five or six of them):\n",
    "\n",
    "| Parameter (Acronym) | Description |\n",
    "|:-------------------:|:-----------:|\n",
    "|BEN    |Benzene|\n",
    "|CO     |Carbon Monoxide|\n",
    "|DV     |Wind Direction|\n",
    "|DVG    |Global Wind Speed|\n",
    "|ERT    |Total Reduced Sulfur (i.e., sulfide, thiosulfate, inorganic sulfur)|\n",
    "|MP10   |Inhalable Coarse Particles|\n",
    "|MP2.5  |Fine Particles|\n",
    "|NO     |Nitric Oxide|\n",
    "|NO2    |Nitrogen Dioxide|\n",
    "|NOx    |Nitrogen Oxides|\n",
    "|O3     |Ozone|\n",
    "|PRESS  |Atmospheric Pressure|\n",
    "|RADG   |Global Solar Radiation|\n",
    "|RADUV  |Ultraviolet Radiation|\n",
    "|SIGMA  |Std. Dev. of Wind Speed|\n",
    "|SO2    |Sulfur Dioxide|\n",
    "|TEMP   |Air Temperature|\n",
    "|TOL    |Toluene|\n",
    "|UR     |Relative Humidity|\n",
    "|VV     |Wind Speed|\n"
   ]
  },
  {
   "cell_type": "code",
   "execution_count": 9,
   "metadata": {},
   "outputs": [],
   "source": [
    "import ipywidgets as widgets\n",
    "from ipywidgets import interact, interact_manual"
   ]
  },
  {
   "cell_type": "code",
   "execution_count": 10,
   "metadata": {},
   "outputs": [],
   "source": [
    "def tsplot(station='Pinheiros', pollutant='O3'):\n",
    "\n",
    "    full_s = full.copy(deep=False)\n",
    "\n",
    "    full_s = full_s[full_s.pollutant == pollutant]\n",
    "    full_s[f'{pollutant}'] = full_s.mean(axis=1)\n",
    "    full_s = full_s[['date', 'station', 'pollutant', f'{pollutant}']]\n",
    "    full_s.set_index(pd.to_datetime(full_s.date, format='%Y-%m-%d'), inplace=True)\n",
    "    full_s = full_s[full_s.station == station]\n",
    "\n",
    "    return full_s.groupby(full_s.index).mean().plot(figsize=(15, 5), kind='line')"
   ]
  },
  {
   "cell_type": "code",
   "execution_count": 15,
   "metadata": {},
   "outputs": [
    {
     "data": {
      "application/vnd.jupyter.widget-view+json": {
       "model_id": "8e03285641bb4c8a98eeb3dfac1918ec",
       "version_major": 2,
       "version_minor": 0
      },
      "text/plain": [
       "interactive(children=(Dropdown(description='station', index=61, options=('Presidente Prudente', 'Osasco', 'Ibi…"
      ]
     },
     "metadata": {},
     "output_type": "display_data"
    },
    {
     "data": {
      "text/plain": [
       "<function __main__.tsplot(station='Pinheiros', pollutant='O3')>"
      ]
     },
     "execution_count": 15,
     "metadata": {},
     "output_type": "execute_result"
    }
   ],
   "source": [
    "interact(tsplot, station=full.station.unique(), pollutant=full.pollutant.unique())"
   ]
  }
 ],
 "metadata": {
  "kernelspec": {
   "display_name": "Python 3",
   "language": "python",
   "name": "python3"
  },
  "language_info": {
   "codemirror_mode": {
    "name": "ipython",
    "version": 3
   },
   "file_extension": ".py",
   "mimetype": "text/x-python",
   "name": "python",
   "nbconvert_exporter": "python",
   "pygments_lexer": "ipython3",
   "version": "3.8.5"
  }
 },
 "nbformat": 4,
 "nbformat_minor": 4
}
